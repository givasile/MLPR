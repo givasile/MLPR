{
 "cells": [
  {
   "cell_type": "code",
   "execution_count": 63,
   "metadata": {},
   "outputs": [],
   "source": [
    "import numpy as np\n",
    "import matplotlib.pyplot as plt\n",
    "import matplotlib.mlab as mlab\n",
    "import seaborn as sns\n",
    "import scipy.stats as stats"
   ]
  },
  {
   "cell_type": "code",
   "execution_count": 67,
   "metadata": {},
   "outputs": [
    {
     "data": {
      "image/png": "[encoded data removed]",
      "text/plain": [
       "<Figure size 432x288 with 1 Axes>"
      ]
     },
     "metadata": {
      "needs_background": "light"
     },
     "output_type": "display_data"
    }
   ],
   "source": [
    "# x = np.array([0.5,0.1,0.2,0.4,0.3,0.2,0.2,0.1,0.35,0.25,0.9,0.8,0.75,1.0])\n",
    "y = np.concatenate((np.zeros(10), np.ones(4)))\n",
    "\n",
    "x0 = x[:10]\n",
    "x1 = x[10:]\n",
    "p0 = 10/14\n",
    "p1 = 4/14\n",
    "\n",
    "m0 = x0.mean()\n",
    "s0 = x0.std()\n",
    "\n",
    "m1 = x1.mean()\n",
    "s1 = x1.std()\n",
    "\n",
    "plt.figure()\n",
    "sns.distplot(x0, bins=10, label = '0')\n",
    "sns.distplot(x1, bins=10, label = '1')\n",
    "plt.legend()\n",
    "plt.show()"
   ]
  },
  {
   "cell_type": "code",
   "execution_count": 82,
   "metadata": {},
   "outputs": [],
   "source": [
    "def gaussian_class_0(x):\n",
    "    return stats.norm(m0,s0).pdf(x)\n",
    "\n",
    "def gaussian_class_1(x):\n",
    "    return stats.norm(m1,s1).pdf(x)\n",
    "\n",
    "meshgrid = np.meshgrid(np.linspace(0, 1.2, 10), np.linspace(0, 1.2, 10))\n",
    "x = meshgrid[0].flatten()\n",
    "y = meshgrid[1].flatten()"
   ]
  },
  {
   "cell_type": "code",
   "execution_count": 85,
   "metadata": {},
   "outputs": [
    {
     "name": "stdout",
     "output_type": "stream",
     "text": [
      "0.06754669577219612\n",
      "0.09896700610348436\n"
     ]
    }
   ],
   "source": [
    "print(gaussian_class_0(0.6))\n",
    "print(gaussian_class_1(0.6))"
   ]
  },
  {
   "cell_type": "code",
   "execution_count": null,
   "metadata": {},
   "outputs": [],
   "source": []
  }
 ],
 "metadata": {
  "kernelspec": {
   "display_name": "Python 3",
   "language": "python",
   "name": "python3"
  },
  "language_info": {
   "codemirror_mode": {
    "name": "ipython",
    "version": 3
   },
   "file_extension": ".py",
   "mimetype": "text/x-python",
   "name": "python",
   "nbconvert_exporter": "python",
   "pygments_lexer": "ipython3",
   "version": "3.6.8"
  }
 },
 "nbformat": 4,
 "nbformat_minor": 2
}
